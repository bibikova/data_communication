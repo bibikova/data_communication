{
 "cells": [
  {
   "cell_type": "code",
   "execution_count": 2,
   "metadata": {},
   "outputs": [],
   "source": [
    "# import packages \n",
    "import numpy as np\n",
    "import pandas as pd"
   ]
  },
  {
   "cell_type": "code",
   "execution_count": null,
   "metadata": {},
   "outputs": [],
   "source": [
    "def get_new_dataset(flight_list):\n",
    "    cancel_fl = pd.DataFrame()\n",
    "    for name in flight_list:\n",
    "        temp = pd.read_csv(name, encoding='latin-1') #reading the dataset\n",
    "        temp = temp.query('Cancelled == 1')#sorting entries which were cancelled       \n",
    "        temp = drop(columns = column_list) #dropping columns which are not relevant\n",
    "        cancel_fl = pd.concat([cancel_fl, temp]) #concantenating the sets    \n",
    "    cancel_fl = cancel_fl.reset_index() #resetting the index\n",
    "    cancel_fl.to_csv('cancelled.csv') #saving to csv file"
   ]
  },
  {
   "cell_type": "code",
   "execution_count": 117,
   "metadata": {},
   "outputs": [],
   "source": [
    "#function to get the list of names \n",
    "def make_csv(name_list):\n",
    "    new_list = []\n",
    "    for name in name_list:\n",
    "        x = str(name)\n",
    "        x+= '.csv'\n",
    "        new_list.append(x)\n",
    "    return new_list  "
   ]
  },
  {
   "cell_type": "code",
   "execution_count": 140,
   "metadata": {},
   "outputs": [],
   "source": [
    "sets = np.arange(1987, 2009, 1)\n",
    "name_list = make_csv(sets)\n"
   ]
  },
  {
   "cell_type": "code",
   "execution_count": 119,
   "metadata": {},
   "outputs": [],
   "source": [
    "column_list = ['DepTime', 'ArrTime', 'TailNum', 'AirTime', 'ArrDelay', 'DepDelay', 'ActualElapsedTime', 'TaxiIn', 'TaxiOut', 'WeatherDelay', 'CarrierDelay', 'NASDelay', 'SecurityDelay', 'LateAircraftDelay', 'Cancelled', 'Diverted' ]"
   ]
  },
  {
   "cell_type": "code",
   "execution_count": null,
   "metadata": {},
   "outputs": [],
   "source": [
    "#function to collenc total amount of flights per year between 1987 and 2008\n",
    "def get_amount(name_list):\n",
    "    column_1 = [] #empty list which will be a column in dataframe\n",
    "    column_2 = [] #empty list which will be a column in dataframe\n",
    "    for name in name_list:\n",
    "        temp = pd.read_csv(name, encoding='latin-1')#reading the dataset\n",
    "        column_1.append(str(name).split('.')[0])#adding the year entry \n",
    "        column_2.append(temp.shape[0])#adding a number of flight entry\n",
    "    df = pd.DataFrame(   #creating new dataframe out of lists \n",
    "    {'year': column_1,\n",
    "     'amount': column_2,\n",
    "    }) \n",
    "    df.to_csv('amount.csv', index = False)) #saving new dataset to csv file"
   ]
  }
 ],
 "metadata": {
  "kernelspec": {
   "display_name": "Python 3",
   "language": "python",
   "name": "python3"
  },
  "language_info": {
   "codemirror_mode": {
    "name": "ipython",
    "version": 3
   },
   "file_extension": ".py",
   "mimetype": "text/x-python",
   "name": "python",
   "nbconvert_exporter": "python",
   "pygments_lexer": "ipython3",
   "version": "3.6.5"
  }
 },
 "nbformat": 4,
 "nbformat_minor": 2
}
